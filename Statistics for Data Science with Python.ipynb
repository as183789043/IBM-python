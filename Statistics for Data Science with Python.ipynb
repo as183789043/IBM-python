{
    "cells": [
        {
            "cell_type": "code",
            "execution_count": 3,
            "metadata": {},
            "outputs": [],
            "source": "import pandas as pd\nimport numpy as np\nfrom scipy import random\nimport seaborn as sns\nimport math\nfrom math import ceil\n\nfrom scipy import stats\nimport statsmodels.api as sm \n#import statsmodels.stats.api as sms\nfrom sklearn.linear_model import LogisticRegression\nimport matplotlib.pyplot as plt\nimport scipy.stats\nfrom scipy.stats import ttest_ind\nfrom statsmodels.formula.api import ols\n\nimport matplotlib as mpl\nimport matplotlib.pyplot as plt\nfrom matplotlib.ticker import FuncFormatter\nimport matplotlib.ticker as mtick\n\nimport itertools\n%matplotlib inline"
        },
        {
            "cell_type": "markdown",
            "metadata": {},
            "source": "# Load and Explore Data\n"
        },
        {
            "cell_type": "code",
            "execution_count": 4,
            "metadata": {},
            "outputs": [],
            "source": "boston_url = 'https://cf-courses-data.s3.us.cloud-object-storage.appdomain.cloud/IBMDeveloperSkillsNetwork-ST0151EN-SkillsNetwork/labs/boston_housing.csv'\nboston_df=pd.read_csv(boston_url)"
        },
        {
            "cell_type": "code",
            "execution_count": 6,
            "metadata": {},
            "outputs": [
                {
                    "data": {
                        "text/html": "<div>\n<style scoped>\n    .dataframe tbody tr th:only-of-type {\n        vertical-align: middle;\n    }\n\n    .dataframe tbody tr th {\n        vertical-align: top;\n    }\n\n    .dataframe thead th {\n        text-align: right;\n    }\n</style>\n<table border=\"1\" class=\"dataframe\">\n  <thead>\n    <tr style=\"text-align: right;\">\n      <th></th>\n      <th>Unnamed: 0</th>\n      <th>CRIM</th>\n      <th>ZN</th>\n      <th>INDUS</th>\n      <th>CHAS</th>\n      <th>NOX</th>\n      <th>RM</th>\n      <th>AGE</th>\n      <th>DIS</th>\n      <th>RAD</th>\n      <th>TAX</th>\n      <th>PTRATIO</th>\n      <th>LSTAT</th>\n      <th>MEDV</th>\n    </tr>\n  </thead>\n  <tbody>\n    <tr>\n      <th>0</th>\n      <td>0</td>\n      <td>0.00632</td>\n      <td>18.0</td>\n      <td>2.31</td>\n      <td>0.0</td>\n      <td>0.538</td>\n      <td>6.575</td>\n      <td>65.2</td>\n      <td>4.0900</td>\n      <td>1.0</td>\n      <td>296.0</td>\n      <td>15.3</td>\n      <td>4.98</td>\n      <td>24.0</td>\n    </tr>\n    <tr>\n      <th>1</th>\n      <td>1</td>\n      <td>0.02731</td>\n      <td>0.0</td>\n      <td>7.07</td>\n      <td>0.0</td>\n      <td>0.469</td>\n      <td>6.421</td>\n      <td>78.9</td>\n      <td>4.9671</td>\n      <td>2.0</td>\n      <td>242.0</td>\n      <td>17.8</td>\n      <td>9.14</td>\n      <td>21.6</td>\n    </tr>\n    <tr>\n      <th>2</th>\n      <td>2</td>\n      <td>0.02729</td>\n      <td>0.0</td>\n      <td>7.07</td>\n      <td>0.0</td>\n      <td>0.469</td>\n      <td>7.185</td>\n      <td>61.1</td>\n      <td>4.9671</td>\n      <td>2.0</td>\n      <td>242.0</td>\n      <td>17.8</td>\n      <td>4.03</td>\n      <td>34.7</td>\n    </tr>\n    <tr>\n      <th>3</th>\n      <td>3</td>\n      <td>0.03237</td>\n      <td>0.0</td>\n      <td>2.18</td>\n      <td>0.0</td>\n      <td>0.458</td>\n      <td>6.998</td>\n      <td>45.8</td>\n      <td>6.0622</td>\n      <td>3.0</td>\n      <td>222.0</td>\n      <td>18.7</td>\n      <td>2.94</td>\n      <td>33.4</td>\n    </tr>\n    <tr>\n      <th>4</th>\n      <td>4</td>\n      <td>0.06905</td>\n      <td>0.0</td>\n      <td>2.18</td>\n      <td>0.0</td>\n      <td>0.458</td>\n      <td>7.147</td>\n      <td>54.2</td>\n      <td>6.0622</td>\n      <td>3.0</td>\n      <td>222.0</td>\n      <td>18.7</td>\n      <td>5.33</td>\n      <td>36.2</td>\n    </tr>\n  </tbody>\n</table>\n</div>",
                        "text/plain": "   Unnamed: 0     CRIM    ZN  INDUS  CHAS    NOX     RM   AGE     DIS  RAD  \\\n0           0  0.00632  18.0   2.31   0.0  0.538  6.575  65.2  4.0900  1.0   \n1           1  0.02731   0.0   7.07   0.0  0.469  6.421  78.9  4.9671  2.0   \n2           2  0.02729   0.0   7.07   0.0  0.469  7.185  61.1  4.9671  2.0   \n3           3  0.03237   0.0   2.18   0.0  0.458  6.998  45.8  6.0622  3.0   \n4           4  0.06905   0.0   2.18   0.0  0.458  7.147  54.2  6.0622  3.0   \n\n     TAX  PTRATIO  LSTAT  MEDV  \n0  296.0     15.3   4.98  24.0  \n1  242.0     17.8   9.14  21.6  \n2  242.0     17.8   4.03  34.7  \n3  222.0     18.7   2.94  33.4  \n4  222.0     18.7   5.33  36.2  "
                    },
                    "execution_count": 6,
                    "metadata": {},
                    "output_type": "execute_result"
                }
            ],
            "source": "boston_df.head()"
        },
        {
            "cell_type": "code",
            "execution_count": 8,
            "metadata": {},
            "outputs": [],
            "source": "# Drop the unnamed column\nboston_df = boston_df.drop(boston_df.columns[0], axis=1)"
        },
        {
            "cell_type": "code",
            "execution_count": 9,
            "metadata": {},
            "outputs": [
                {
                    "data": {
                        "text/plain": "ZN         float64\nINDUS      float64\nCHAS       float64\nNOX        float64\nRM         float64\nAGE        float64\nDIS        float64\nRAD        float64\nTAX        float64\nPTRATIO    float64\nLSTAT      float64\nMEDV       float64\ndtype: object"
                    },
                    "execution_count": 9,
                    "metadata": {},
                    "output_type": "execute_result"
                }
            ],
            "source": "# Review the data types \nboston_df.dtypes"
        },
        {
            "cell_type": "code",
            "execution_count": 10,
            "metadata": {},
            "outputs": [
                {
                    "data": {
                        "text/html": "<div>\n<style scoped>\n    .dataframe tbody tr th:only-of-type {\n        vertical-align: middle;\n    }\n\n    .dataframe tbody tr th {\n        vertical-align: top;\n    }\n\n    .dataframe thead th {\n        text-align: right;\n    }\n</style>\n<table border=\"1\" class=\"dataframe\">\n  <thead>\n    <tr style=\"text-align: right;\">\n      <th></th>\n      <th>ZN</th>\n      <th>INDUS</th>\n      <th>CHAS</th>\n      <th>NOX</th>\n      <th>RM</th>\n      <th>AGE</th>\n      <th>DIS</th>\n      <th>RAD</th>\n      <th>TAX</th>\n      <th>PTRATIO</th>\n      <th>LSTAT</th>\n      <th>MEDV</th>\n    </tr>\n  </thead>\n  <tbody>\n    <tr>\n      <th>count</th>\n      <td>506.000000</td>\n      <td>506.000000</td>\n      <td>506.000000</td>\n      <td>506.000000</td>\n      <td>506.000000</td>\n      <td>506.000000</td>\n      <td>506.000000</td>\n      <td>506.000000</td>\n      <td>506.000000</td>\n      <td>506.000000</td>\n      <td>506.000000</td>\n      <td>506.000000</td>\n    </tr>\n    <tr>\n      <th>mean</th>\n      <td>11.363636</td>\n      <td>11.136779</td>\n      <td>0.069170</td>\n      <td>0.554695</td>\n      <td>6.284634</td>\n      <td>68.574901</td>\n      <td>3.795043</td>\n      <td>9.549407</td>\n      <td>408.237154</td>\n      <td>18.455534</td>\n      <td>12.653063</td>\n      <td>22.532806</td>\n    </tr>\n    <tr>\n      <th>std</th>\n      <td>23.322453</td>\n      <td>6.860353</td>\n      <td>0.253994</td>\n      <td>0.115878</td>\n      <td>0.702617</td>\n      <td>28.148861</td>\n      <td>2.105710</td>\n      <td>8.707259</td>\n      <td>168.537116</td>\n      <td>2.164946</td>\n      <td>7.141062</td>\n      <td>9.197104</td>\n    </tr>\n    <tr>\n      <th>min</th>\n      <td>0.000000</td>\n      <td>0.460000</td>\n      <td>0.000000</td>\n      <td>0.385000</td>\n      <td>3.561000</td>\n      <td>2.900000</td>\n      <td>1.129600</td>\n      <td>1.000000</td>\n      <td>187.000000</td>\n      <td>12.600000</td>\n      <td>1.730000</td>\n      <td>5.000000</td>\n    </tr>\n    <tr>\n      <th>25%</th>\n      <td>0.000000</td>\n      <td>5.190000</td>\n      <td>0.000000</td>\n      <td>0.449000</td>\n      <td>5.885500</td>\n      <td>45.025000</td>\n      <td>2.100175</td>\n      <td>4.000000</td>\n      <td>279.000000</td>\n      <td>17.400000</td>\n      <td>6.950000</td>\n      <td>17.025000</td>\n    </tr>\n    <tr>\n      <th>50%</th>\n      <td>0.000000</td>\n      <td>9.690000</td>\n      <td>0.000000</td>\n      <td>0.538000</td>\n      <td>6.208500</td>\n      <td>77.500000</td>\n      <td>3.207450</td>\n      <td>5.000000</td>\n      <td>330.000000</td>\n      <td>19.050000</td>\n      <td>11.360000</td>\n      <td>21.200000</td>\n    </tr>\n    <tr>\n      <th>75%</th>\n      <td>12.500000</td>\n      <td>18.100000</td>\n      <td>0.000000</td>\n      <td>0.624000</td>\n      <td>6.623500</td>\n      <td>94.075000</td>\n      <td>5.188425</td>\n      <td>24.000000</td>\n      <td>666.000000</td>\n      <td>20.200000</td>\n      <td>16.955000</td>\n      <td>25.000000</td>\n    </tr>\n    <tr>\n      <th>max</th>\n      <td>100.000000</td>\n      <td>27.740000</td>\n      <td>1.000000</td>\n      <td>0.871000</td>\n      <td>8.780000</td>\n      <td>100.000000</td>\n      <td>12.126500</td>\n      <td>24.000000</td>\n      <td>711.000000</td>\n      <td>22.000000</td>\n      <td>37.970000</td>\n      <td>50.000000</td>\n    </tr>\n  </tbody>\n</table>\n</div>",
                        "text/plain": "               ZN       INDUS        CHAS         NOX          RM         AGE  \\\ncount  506.000000  506.000000  506.000000  506.000000  506.000000  506.000000   \nmean    11.363636   11.136779    0.069170    0.554695    6.284634   68.574901   \nstd     23.322453    6.860353    0.253994    0.115878    0.702617   28.148861   \nmin      0.000000    0.460000    0.000000    0.385000    3.561000    2.900000   \n25%      0.000000    5.190000    0.000000    0.449000    5.885500   45.025000   \n50%      0.000000    9.690000    0.000000    0.538000    6.208500   77.500000   \n75%     12.500000   18.100000    0.000000    0.624000    6.623500   94.075000   \nmax    100.000000   27.740000    1.000000    0.871000    8.780000  100.000000   \n\n              DIS         RAD         TAX     PTRATIO       LSTAT        MEDV  \ncount  506.000000  506.000000  506.000000  506.000000  506.000000  506.000000  \nmean     3.795043    9.549407  408.237154   18.455534   12.653063   22.532806  \nstd      2.105710    8.707259  168.537116    2.164946    7.141062    9.197104  \nmin      1.129600    1.000000  187.000000   12.600000    1.730000    5.000000  \n25%      2.100175    4.000000  279.000000   17.400000    6.950000   17.025000  \n50%      3.207450    5.000000  330.000000   19.050000   11.360000   21.200000  \n75%      5.188425   24.000000  666.000000   20.200000   16.955000   25.000000  \nmax     12.126500   24.000000  711.000000   22.000000   37.970000   50.000000  "
                    },
                    "execution_count": 10,
                    "metadata": {},
                    "output_type": "execute_result"
                }
            ],
            "source": "# Check the basic metrics of the dataset \nboston_df.describe()"
        },
        {
            "cell_type": "markdown",
            "metadata": {},
            "source": "# Data Visualization\n1. For the \"Median value of owner-occupied homes\" provide a boxplot\n2. Provide a histogram for the Charles river variable\n3. Provide a boxplot for the MEDV variable vs the AGE variable. (Discretize the age variable into three groups of 35 years and younger, between 35 and 70 years and 70 years and older)\n4. Provide a scatter plot to show the relationship between Nitric oxide concentrations and the proportion of non-retail business acres per town. What can you say about the relationship?\n5. Create a histogram for the pupil to teacher ratio variable"
        },
        {
            "cell_type": "code",
            "execution_count": 11,
            "metadata": {},
            "outputs": [
                {
                    "data": {
                        "image/png": "[encoded data removed]",
                        "text/plain": "<Figure size 432x288 with 1 Axes>"
                    },
                    "metadata": {
                        "needs_background": "light"
                    },
                    "output_type": "display_data"
                }
            ],
            "source": "# For the \"Median value of owner-occupied homes\" provide a boxplot\nboxplot = boston_df.boxplot(column=['MEDV'])"
        },
        {
            "cell_type": "code",
            "execution_count": 12,
            "metadata": {},
            "outputs": [
                {
                    "data": {
                        "text/plain": "array([[<matplotlib.axes._subplots.AxesSubplot object at 0x7f1ac3bb8cd0>]],\n      dtype=object)"
                    },
                    "execution_count": 12,
                    "metadata": {},
                    "output_type": "execute_result"
                },
                {
                    "data": {
                        "image/png": "[encoded data removed]",
                        "text/plain": "<Figure size 432x288 with 1 Axes>"
                    },
                    "metadata": {
                        "needs_background": "light"
                    },
                    "output_type": "display_data"
                }
            ],
            "source": "# Provide a histogram for the Charles river variable\nboston_df.hist(column='CHAS')\n# This is a dummy variable and I don't think histogram is the best way to visualize it."
        },
        {
            "cell_type": "code",
            "execution_count": 13,
            "metadata": {},
            "outputs": [],
            "source": "# Provide a boxplot for the MEDV variable vs the AGE variable. \n# Discretize the age variable into three groups of 35 years and younger, between 35 and 70 years and 70 years and older.\nboston_df.loc[(boston_df.AGE <= 35),  'AgeGroup'] = '35_Years_Younger'\nboston_df.loc[(boston_df.AGE > 35) & (boston_df.AGE < 70),  'AgeGroup'] = '35_and_70'\nboston_df.loc[(boston_df.AGE >=70),  'AgeGroup'] = '70_Years_Older'"
        },
        {
            "cell_type": "code",
            "execution_count": 14,
            "metadata": {},
            "outputs": [
                {
                    "data": {
                        "text/plain": "AgeGroup\n35_Years_Younger    27.775824\n35_and_70           24.947656\n70_Years_Older      19.793380\nName: MEDV, dtype: float64"
                    },
                    "execution_count": 14,
                    "metadata": {},
                    "output_type": "execute_result"
                }
            ],
            "source": "boston_df.groupby(\"AgeGroup\")[\"MEDV\"].mean()"
        },
        {
            "cell_type": "code",
            "execution_count": 15,
            "metadata": {},
            "outputs": [
                {
                    "data": {
                        "image/png": "[encoded data removed]",
                        "text/plain": "<Figure size 360x360 with 1 Axes>"
                    },
                    "metadata": {
                        "needs_background": "light"
                    },
                    "output_type": "display_data"
                }
            ],
            "source": "sns.catplot(x=\"AgeGroup\", y=\"MEDV\", kind=\"box\", data=boston_df);"
        },
        {
            "cell_type": "code",
            "execution_count": 35,
            "metadata": {},
            "outputs": [
                {
                    "data": {
                        "text/plain": "<matplotlib.collections.PathCollection at 0x7f1abf320650>"
                    },
                    "execution_count": 35,
                    "metadata": {},
                    "output_type": "execute_result"
                },
                {
                    "data": {
                        "image/png": "[encoded data removed]",
                        "text/plain": "<Figure size 432x288 with 1 Axes>"
                    },
                    "metadata": {
                        "needs_background": "light"
                    },
                    "output_type": "display_data"
                }
            ],
            "source": "# Provide a scatter plot to show the relationship between Nitric oxide concentrations \n#and the proportion of non-retail business acres per town. \n#What can you say about the relationship?\nplt.title(\"Scatter Plot\", fontsize=10)\nplt.xlabel(\"NOX\", fontsize=8)\nplt.ylabel(\"INDUS\", fontsize=8)\nplt.scatter(boston_df.NOX, boston_df.INDUS)"
        },
        {
            "cell_type": "markdown",
            "metadata": {},
            "source": "## Generally speaking, Nitric oxide concentrations and the proportion of non-retail business acres per town are positively correlated. While the Nitric Oxide Concentrations increased, the non-retail business acres per town increased."
        },
        {
            "cell_type": "code",
            "execution_count": 17,
            "metadata": {},
            "outputs": [
                {
                    "data": {
                        "text/plain": "array([[<matplotlib.axes._subplots.AxesSubplot object at 0x7f1ac39af090>]],\n      dtype=object)"
                    },
                    "execution_count": 17,
                    "metadata": {},
                    "output_type": "execute_result"
                },
                {
                    "data": {
                        "image/png": "[encoded data removed]",
                        "text/plain": "<Figure size 432x288 with 1 Axes>"
                    },
                    "metadata": {
                        "needs_background": "light"
                    },
                    "output_type": "display_data"
                }
            ],
            "source": "# Create a histogram for the pupil to teacher ratio variable\nboston_df.hist(column='PTRATIO')"
        },
        {
            "cell_type": "markdown",
            "metadata": {},
            "source": "# Statistical Analysis\n* Is there a significant difference in median value of houses bounded by the Charles river or not? (T-test for independent samples)\n* Is there a difference in Median values of houses (MEDV) for each proportion of owner occupied units built prior to 1940 (AGE)? (ANOVA)\n* Can we conclude that there is no relationship between Nitric oxide concentrations and proportion of non-retail business acres per town? (Pearson Correlation)\n* What is the impact of an additional weighted distance to the five Boston employment centres on the median value of owner occupied homes? (Regression analysis)\n## Make sure to:\n\n1. State your hypothesis.\n2. Use \u03b1 = 0.05\n3. Perform the test Statistics.\n4. State the conclusion from the test."
        },
        {
            "cell_type": "markdown",
            "metadata": {},
            "source": "# Charles River Variable vs. Median Value of Houses\n* H0: therea is no significant difference in median value of houses bounded by the Charles river or not.\n* Method: t-test\n* Conclusion: p < 0.05, rejecting the H0. There is a significant difference in median value of houses bounded by the Charles river or not."
        },
        {
            "cell_type": "code",
            "execution_count": 19,
            "metadata": {},
            "outputs": [
                {
                    "data": {
                        "text/plain": "Ttest_indResult(statistic=3.996437466090509, pvalue=7.390623170519905e-05)"
                    },
                    "execution_count": 19,
                    "metadata": {},
                    "output_type": "execute_result"
                }
            ],
            "source": "stats.ttest_ind(boston_df['MEDV'][boston_df['CHAS'] == 1],\n                boston_df['MEDV'][boston_df['CHAS'] == 0])"
        },
        {
            "cell_type": "markdown",
            "metadata": {},
            "source": "# House Age vs. Median Value of Houses\n* H0: There is no difference in Median values of houses (MEDV) for each proportion of owner occupied units built prior to 1940 (AGE).\n* Testing Method: ANOVA \n* Conclustion: p < 0.05, rejecting the H0. There is a statistical significant difference in Median values of houses (MEDV) for each proportion of owner occupied units built prior to 1940 (AGE)"
        },
        {
            "cell_type": "code",
            "execution_count": 20,
            "metadata": {},
            "outputs": [
                {
                    "data": {
                        "text/plain": "LeveneResult(statistic=2.7806200293748304, pvalue=0.06295337343259205)"
                    },
                    "execution_count": 20,
                    "metadata": {},
                    "output_type": "execute_result"
                }
            ],
            "source": "scipy.stats.levene(boston_df[boston_df['AgeGroup'] == '35_Years_Younger']['MEDV'],\n                   boston_df[boston_df['AgeGroup'] == '35_and_70']['MEDV'], \n                   boston_df[boston_df['AgeGroup'] == '70_Years_Older']['MEDV'], \n                   center='mean')"
        },
        {
            "cell_type": "code",
            "execution_count": 25,
            "metadata": {},
            "outputs": [],
            "source": "thirtyfive_lower_medv = boston_df[boston_df['AgeGroup'] == '35_Years_Younger']['MEDV']\nthirtyfive_seventy_medv = boston_df[boston_df['AgeGroup'] == '35_and_70']['MEDV']\nseventy_older_medv = boston_df[boston_df['AgeGroup'] == '70_Years_Older']['MEDV']"
        },
        {
            "cell_type": "code",
            "execution_count": 27,
            "metadata": {},
            "outputs": [
                {
                    "name": "stdout",
                    "output_type": "stream",
                    "text": "F_Statistic: 36.40764999196599, P-Value: 1.7105011022702984e-15\n"
                }
            ],
            "source": "f_statistic, p_value = scipy.stats.f_oneway(thirtyfive_lower_medv, thirtyfive_seventy_medv, seventy_older_medv)\nprint(\"F_Statistic: {0}, P-Value: {1}\".format(f_statistic,p_value))"
        },
        {
            "cell_type": "markdown",
            "metadata": {},
            "source": "# Nitric Oxide Concentrations vs. Proportion of Non-Retail Business Acres per Town\n* H0:there is no relationship between Nitric oxide concentrations and proportion of non-retail business acres per town.\n* Testing Method: Pearson Correlation\n* Conclusion: p-value < 0.05, we reject the Null Hypothesis and conclude that there exists a relationship between Nitric oxide concentrations and proportion of non-retail business acres per town."
        },
        {
            "cell_type": "code",
            "execution_count": 28,
            "metadata": {},
            "outputs": [
                {
                    "data": {
                        "text/plain": "(-0.4273207723732826, 7.065041586251507e-24)"
                    },
                    "execution_count": 28,
                    "metadata": {},
                    "output_type": "execute_result"
                }
            ],
            "source": "scipy.stats.pearsonr(boston_df['NOX'], boston_df['MEDV'])"
        },
        {
            "cell_type": "markdown",
            "metadata": {},
            "source": "# Additional Weighted Distance to Employment Centres vs. Median Value of Houses\n* H0: Additional weighted distance to the five Boston employment centres has no impact on the median value of owner occupied homes.\n* Method: Regression analysis\n* Conclusion:\n*The coefficient of 4.7985 means that as the DIS variable increases by 1, the predicted value of MEDV increases by 4.7985;\n* R-squared of 0.732 means that this model explains about 73% of the variance;\n* p-values < 0.05, referring to that the DIS has statistically significant correlation with MEDV;\n* there is a 95% confidence intervals for the DIS(meaning we predict at a 95% percent confidence that the value of DIS is between 4.545 and 5.052)."
        },
        {
            "cell_type": "code",
            "execution_count": 31,
            "metadata": {},
            "outputs": [],
            "source": "lm = ols('MEDV ~ DIS', data = boston_df).fit()"
        },
        {
            "cell_type": "code",
            "execution_count": 32,
            "metadata": {},
            "outputs": [
                {
                    "data": {
                        "text/html": "<table class=\"simpletable\">\n<caption>OLS Regression Results</caption>\n<tr>\n  <th>Dep. Variable:</th>          <td>MEDV</td>       <th>  R-squared (uncentered):</th>      <td>   0.732</td> \n</tr>\n<tr>\n  <th>Model:</th>                   <td>OLS</td>       <th>  Adj. R-squared (uncentered):</th> <td>   0.732</td> \n</tr>\n<tr>\n  <th>Method:</th>             <td>Least Squares</td>  <th>  F-statistic:       </th>          <td>   1380.</td> \n</tr>\n<tr>\n  <th>Date:</th>             <td>Wed, 07 Jul 2021</td> <th>  Prob (F-statistic):</th>          <td>1.52e-146</td>\n</tr>\n<tr>\n  <th>Time:</th>                 <td>19:42:02</td>     <th>  Log-Likelihood:    </th>          <td> -1999.8</td> \n</tr>\n<tr>\n  <th>No. Observations:</th>      <td>   506</td>      <th>  AIC:               </th>          <td>   4002.</td> \n</tr>\n<tr>\n  <th>Df Residuals:</th>          <td>   505</td>      <th>  BIC:               </th>          <td>   4006.</td> \n</tr>\n<tr>\n  <th>Df Model:</th>              <td>     1</td>      <th>                     </th>              <td> </td>    \n</tr>\n<tr>\n  <th>Covariance Type:</th>      <td>nonrobust</td>    <th>                     </th>              <td> </td>    \n</tr>\n</table>\n<table class=\"simpletable\">\n<tr>\n   <td></td>      <th>coef</th>     <th>std err</th>      <th>t</th>      <th>P>|t|</th>  <th>[0.025</th>    <th>0.975]</th>  \n</tr>\n<tr>\n  <th>DIS</th> <td>    4.7985</td> <td>    0.129</td> <td>   37.149</td> <td> 0.000</td> <td>    4.545</td> <td>    5.052</td>\n</tr>\n</table>\n<table class=\"simpletable\">\n<tr>\n  <th>Omnibus:</th>       <td>40.135</td> <th>  Durbin-Watson:     </th> <td>   0.343</td>\n</tr>\n<tr>\n  <th>Prob(Omnibus):</th> <td> 0.000</td> <th>  Jarque-Bera (JB):  </th> <td>  90.968</td>\n</tr>\n<tr>\n  <th>Skew:</th>          <td> 0.431</td> <th>  Prob(JB):          </th> <td>1.76e-20</td>\n</tr>\n<tr>\n  <th>Kurtosis:</th>      <td> 4.889</td> <th>  Cond. No.          </th> <td>    1.00</td>\n</tr>\n</table><br/><br/>Warnings:<br/>[1] Standard Errors assume that the covariance matrix of the errors is correctly specified.",
                        "text/plain": "<class 'statsmodels.iolib.summary.Summary'>\n\"\"\"\n                                 OLS Regression Results                                \n=======================================================================================\nDep. Variable:                   MEDV   R-squared (uncentered):                   0.732\nModel:                            OLS   Adj. R-squared (uncentered):              0.732\nMethod:                 Least Squares   F-statistic:                              1380.\nDate:                Wed, 07 Jul 2021   Prob (F-statistic):                   1.52e-146\nTime:                        19:42:02   Log-Likelihood:                         -1999.8\nNo. Observations:                 506   AIC:                                      4002.\nDf Residuals:                     505   BIC:                                      4006.\nDf Model:                           1                                                  \nCovariance Type:            nonrobust                                                  \n==============================================================================\n                 coef    std err          t      P>|t|      [0.025      0.975]\n------------------------------------------------------------------------------\nDIS            4.7985      0.129     37.149      0.000       4.545       5.052\n==============================================================================\nOmnibus:                       40.135   Durbin-Watson:                   0.343\nProb(Omnibus):                  0.000   Jarque-Bera (JB):               90.968\nSkew:                           0.431   Prob(JB):                     1.76e-20\nKurtosis:                       4.889   Cond. No.                         1.00\n==============================================================================\n\nWarnings:\n[1] Standard Errors assume that the covariance matrix of the errors is correctly specified.\n\"\"\""
                    },
                    "execution_count": 32,
                    "metadata": {},
                    "output_type": "execute_result"
                }
            ],
            "source": "X = boston_df[\"DIS\"]\ny = boston_df[\"MEDV\"]\n\n# Note the difference in argument order\nmodel = sm.OLS(y, X).fit()\npredictions = model.predict(X) # make the predictions by the model\n\n# Print out the statistics\nmodel.summary()"
        },
        {
            "cell_type": "code",
            "execution_count": null,
            "metadata": {},
            "outputs": [],
            "source": ""
        }
    ],
    "metadata": {
        "kernelspec": {
            "display_name": "Python 3.7",
            "language": "python",
            "name": "python3"
        },
        "language_info": {
            "codemirror_mode": {
                "name": "ipython",
                "version": 3
            },
            "file_extension": ".py",
            "mimetype": "text/x-python",
            "name": "python",
            "nbconvert_exporter": "python",
            "pygments_lexer": "ipython3",
            "version": "3.7.10"
        }
    },
    "nbformat": 4,
    "nbformat_minor": 1
}